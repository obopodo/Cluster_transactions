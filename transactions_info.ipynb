{
 "cells": [
  {
   "cell_type": "code",
   "execution_count": 1,
   "metadata": {},
   "outputs": [],
   "source": [
    "import pandas as pd\n",
    "import numpy as np\n",
    "import matplotlib.pyplot as plt\n",
    "import seaborn as sns"
   ]
  },
  {
   "cell_type": "markdown",
   "metadata": {},
   "source": [
    "# Import data"
   ]
  },
  {
   "cell_type": "code",
   "execution_count": 2,
   "metadata": {},
   "outputs": [],
   "source": [
    "datafolder = 'data/'"
   ]
  },
  {
   "cell_type": "code",
   "execution_count": 3,
   "metadata": {},
   "outputs": [],
   "source": [
    "addr_clust = pd.read_csv(datafolder + 'address_clust.csv')\n",
    "addr_stats = pd.read_csv(datafolder + 'address_stats.csv')"
   ]
  },
  {
   "cell_type": "markdown",
   "metadata": {},
   "source": [
    "# A quick look"
   ]
  },
  {
   "cell_type": "code",
   "execution_count": 4,
   "metadata": {},
   "outputs": [
    {
     "data": {
      "text/html": [
       "<div>\n",
       "<style scoped>\n",
       "    .dataframe tbody tr th:only-of-type {\n",
       "        vertical-align: middle;\n",
       "    }\n",
       "\n",
       "    .dataframe tbody tr th {\n",
       "        vertical-align: top;\n",
       "    }\n",
       "\n",
       "    .dataframe thead th {\n",
       "        text-align: right;\n",
       "    }\n",
       "</style>\n",
       "<table border=\"1\" class=\"dataframe\">\n",
       "  <thead>\n",
       "    <tr style=\"text-align: right;\">\n",
       "      <th></th>\n",
       "      <th>address_id</th>\n",
       "      <th>cluster_id</th>\n",
       "    </tr>\n",
       "  </thead>\n",
       "  <tbody>\n",
       "    <tr>\n",
       "      <th>0</th>\n",
       "      <td>71413451</td>\n",
       "      <td>1</td>\n",
       "    </tr>\n",
       "    <tr>\n",
       "      <th>1</th>\n",
       "      <td>71411914</td>\n",
       "      <td>1</td>\n",
       "    </tr>\n",
       "  </tbody>\n",
       "</table>\n",
       "</div>"
      ],
      "text/plain": [
       "   address_id  cluster_id\n",
       "0    71413451           1\n",
       "1    71411914           1"
      ]
     },
     "execution_count": 4,
     "metadata": {},
     "output_type": "execute_result"
    }
   ],
   "source": [
    "addr_clust.head(2)"
   ]
  },
  {
   "cell_type": "code",
   "execution_count": 5,
   "metadata": {
    "scrolled": true
   },
   "outputs": [
    {
     "data": {
      "text/html": [
       "<div>\n",
       "<style scoped>\n",
       "    .dataframe tbody tr th:only-of-type {\n",
       "        vertical-align: middle;\n",
       "    }\n",
       "\n",
       "    .dataframe tbody tr th {\n",
       "        vertical-align: top;\n",
       "    }\n",
       "\n",
       "    .dataframe thead th {\n",
       "        text-align: right;\n",
       "    }\n",
       "</style>\n",
       "<table border=\"1\" class=\"dataframe\">\n",
       "  <thead>\n",
       "    <tr style=\"text-align: right;\">\n",
       "      <th></th>\n",
       "      <th>id</th>\n",
       "      <th>address_id</th>\n",
       "      <th>transaction_id</th>\n",
       "      <th>received</th>\n",
       "      <th>sent</th>\n",
       "    </tr>\n",
       "  </thead>\n",
       "  <tbody>\n",
       "    <tr>\n",
       "      <th>0</th>\n",
       "      <td>87134765</td>\n",
       "      <td>46402336</td>\n",
       "      <td>19162323</td>\n",
       "      <td>0.0</td>\n",
       "      <td>1800000.0</td>\n",
       "    </tr>\n",
       "    <tr>\n",
       "      <th>1</th>\n",
       "      <td>87134766</td>\n",
       "      <td>45919235</td>\n",
       "      <td>19162323</td>\n",
       "      <td>0.0</td>\n",
       "      <td>1071052.0</td>\n",
       "    </tr>\n",
       "    <tr>\n",
       "      <th>2</th>\n",
       "      <td>87134767</td>\n",
       "      <td>46529090</td>\n",
       "      <td>19162323</td>\n",
       "      <td>1000000.0</td>\n",
       "      <td>0.0</td>\n",
       "    </tr>\n",
       "    <tr>\n",
       "      <th>3</th>\n",
       "      <td>87134768</td>\n",
       "      <td>46529091</td>\n",
       "      <td>19162323</td>\n",
       "      <td>1821052.0</td>\n",
       "      <td>0.0</td>\n",
       "    </tr>\n",
       "    <tr>\n",
       "      <th>4</th>\n",
       "      <td>87154706</td>\n",
       "      <td>46529090</td>\n",
       "      <td>19166856</td>\n",
       "      <td>0.0</td>\n",
       "      <td>1000000.0</td>\n",
       "    </tr>\n",
       "  </tbody>\n",
       "</table>\n",
       "</div>"
      ],
      "text/plain": [
       "         id  address_id  transaction_id   received       sent\n",
       "0  87134765    46402336        19162323        0.0  1800000.0\n",
       "1  87134766    45919235        19162323        0.0  1071052.0\n",
       "2  87134767    46529090        19162323  1000000.0        0.0\n",
       "3  87134768    46529091        19162323  1821052.0        0.0\n",
       "4  87154706    46529090        19166856        0.0  1000000.0"
      ]
     },
     "execution_count": 5,
     "metadata": {},
     "output_type": "execute_result"
    }
   ],
   "source": [
    "addr_stats.head()"
   ]
  },
  {
   "cell_type": "markdown",
   "metadata": {},
   "source": [
    "# Join datasets"
   ]
  },
  {
   "cell_type": "code",
   "execution_count": 6,
   "metadata": {},
   "outputs": [],
   "source": [
    "addr_stats = addr_stats.set_index('address_id')\n",
    "addr_clust = addr_clust.set_index('address_id')"
   ]
  },
  {
   "cell_type": "code",
   "execution_count": 7,
   "metadata": {},
   "outputs": [],
   "source": [
    "data = addr_stats.join(addr_clust).reset_index()"
   ]
  },
  {
   "cell_type": "code",
   "execution_count": 8,
   "metadata": {},
   "outputs": [
    {
     "data": {
      "text/html": [
       "<div>\n",
       "<style scoped>\n",
       "    .dataframe tbody tr th:only-of-type {\n",
       "        vertical-align: middle;\n",
       "    }\n",
       "\n",
       "    .dataframe tbody tr th {\n",
       "        vertical-align: top;\n",
       "    }\n",
       "\n",
       "    .dataframe thead th {\n",
       "        text-align: right;\n",
       "    }\n",
       "</style>\n",
       "<table border=\"1\" class=\"dataframe\">\n",
       "  <thead>\n",
       "    <tr style=\"text-align: right;\">\n",
       "      <th></th>\n",
       "      <th>address_id</th>\n",
       "      <th>id</th>\n",
       "      <th>transaction_id</th>\n",
       "      <th>received</th>\n",
       "      <th>sent</th>\n",
       "      <th>cluster_id</th>\n",
       "    </tr>\n",
       "  </thead>\n",
       "  <tbody>\n",
       "    <tr>\n",
       "      <th>0</th>\n",
       "      <td>821475</td>\n",
       "      <td>133545303</td>\n",
       "      <td>28938349</td>\n",
       "      <td>0.0</td>\n",
       "      <td>2.000000e+06</td>\n",
       "      <td>NaN</td>\n",
       "    </tr>\n",
       "    <tr>\n",
       "      <th>1</th>\n",
       "      <td>821475</td>\n",
       "      <td>133546419</td>\n",
       "      <td>28938602</td>\n",
       "      <td>5500.0</td>\n",
       "      <td>0.000000e+00</td>\n",
       "      <td>NaN</td>\n",
       "    </tr>\n",
       "    <tr>\n",
       "      <th>2</th>\n",
       "      <td>2275432</td>\n",
       "      <td>88229621</td>\n",
       "      <td>19396141</td>\n",
       "      <td>0.0</td>\n",
       "      <td>6.400000e+03</td>\n",
       "      <td>NaN</td>\n",
       "    </tr>\n",
       "    <tr>\n",
       "      <th>3</th>\n",
       "      <td>5985476</td>\n",
       "      <td>95086880</td>\n",
       "      <td>20876844</td>\n",
       "      <td>0.0</td>\n",
       "      <td>1.859900e+09</td>\n",
       "      <td>NaN</td>\n",
       "    </tr>\n",
       "    <tr>\n",
       "      <th>4</th>\n",
       "      <td>5985476</td>\n",
       "      <td>95124520</td>\n",
       "      <td>20885474</td>\n",
       "      <td>0.0</td>\n",
       "      <td>1.900000e+09</td>\n",
       "      <td>NaN</td>\n",
       "    </tr>\n",
       "  </tbody>\n",
       "</table>\n",
       "</div>"
      ],
      "text/plain": [
       "   address_id         id  transaction_id  received          sent  cluster_id\n",
       "0      821475  133545303        28938349       0.0  2.000000e+06         NaN\n",
       "1      821475  133546419        28938602    5500.0  0.000000e+00         NaN\n",
       "2     2275432   88229621        19396141       0.0  6.400000e+03         NaN\n",
       "3     5985476   95086880        20876844       0.0  1.859900e+09         NaN\n",
       "4     5985476   95124520        20885474       0.0  1.900000e+09         NaN"
      ]
     },
     "execution_count": 8,
     "metadata": {},
     "output_type": "execute_result"
    }
   ],
   "source": [
    "data.head()"
   ]
  },
  {
   "cell_type": "code",
   "execution_count": 9,
   "metadata": {},
   "outputs": [],
   "source": [
    "data.cluster_id = data.cluster_id.fillna(0) # set 0 as outer cluster id"
   ]
  },
  {
   "cell_type": "code",
   "execution_count": 10,
   "metadata": {},
   "outputs": [
    {
     "data": {
      "text/html": [
       "<div>\n",
       "<style scoped>\n",
       "    .dataframe tbody tr th:only-of-type {\n",
       "        vertical-align: middle;\n",
       "    }\n",
       "\n",
       "    .dataframe tbody tr th {\n",
       "        vertical-align: top;\n",
       "    }\n",
       "\n",
       "    .dataframe thead th {\n",
       "        text-align: right;\n",
       "    }\n",
       "</style>\n",
       "<table border=\"1\" class=\"dataframe\">\n",
       "  <thead>\n",
       "    <tr style=\"text-align: right;\">\n",
       "      <th></th>\n",
       "      <th>address_id</th>\n",
       "      <th>id</th>\n",
       "      <th>transaction_id</th>\n",
       "      <th>received</th>\n",
       "      <th>sent</th>\n",
       "      <th>cluster_id</th>\n",
       "    </tr>\n",
       "  </thead>\n",
       "  <tbody>\n",
       "    <tr>\n",
       "      <th>0</th>\n",
       "      <td>821475</td>\n",
       "      <td>133545303</td>\n",
       "      <td>28938349</td>\n",
       "      <td>0.0</td>\n",
       "      <td>2.000000e+06</td>\n",
       "      <td>0.0</td>\n",
       "    </tr>\n",
       "    <tr>\n",
       "      <th>1</th>\n",
       "      <td>821475</td>\n",
       "      <td>133546419</td>\n",
       "      <td>28938602</td>\n",
       "      <td>5500.0</td>\n",
       "      <td>0.000000e+00</td>\n",
       "      <td>0.0</td>\n",
       "    </tr>\n",
       "    <tr>\n",
       "      <th>2</th>\n",
       "      <td>2275432</td>\n",
       "      <td>88229621</td>\n",
       "      <td>19396141</td>\n",
       "      <td>0.0</td>\n",
       "      <td>6.400000e+03</td>\n",
       "      <td>0.0</td>\n",
       "    </tr>\n",
       "    <tr>\n",
       "      <th>3</th>\n",
       "      <td>5985476</td>\n",
       "      <td>95086880</td>\n",
       "      <td>20876844</td>\n",
       "      <td>0.0</td>\n",
       "      <td>1.859900e+09</td>\n",
       "      <td>0.0</td>\n",
       "    </tr>\n",
       "    <tr>\n",
       "      <th>4</th>\n",
       "      <td>5985476</td>\n",
       "      <td>95124520</td>\n",
       "      <td>20885474</td>\n",
       "      <td>0.0</td>\n",
       "      <td>1.900000e+09</td>\n",
       "      <td>0.0</td>\n",
       "    </tr>\n",
       "  </tbody>\n",
       "</table>\n",
       "</div>"
      ],
      "text/plain": [
       "   address_id         id  transaction_id  received          sent  cluster_id\n",
       "0      821475  133545303        28938349       0.0  2.000000e+06         0.0\n",
       "1      821475  133546419        28938602    5500.0  0.000000e+00         0.0\n",
       "2     2275432   88229621        19396141       0.0  6.400000e+03         0.0\n",
       "3     5985476   95086880        20876844       0.0  1.859900e+09         0.0\n",
       "4     5985476   95124520        20885474       0.0  1.900000e+09         0.0"
      ]
     },
     "execution_count": 10,
     "metadata": {},
     "output_type": "execute_result"
    }
   ],
   "source": [
    "data.head()"
   ]
  },
  {
   "cell_type": "code",
   "execution_count": 11,
   "metadata": {},
   "outputs": [],
   "source": [
    "data.cluster_id = data.cluster_id.astype('int')"
   ]
  },
  {
   "cell_type": "code",
   "execution_count": 12,
   "metadata": {
    "scrolled": true
   },
   "outputs": [
    {
     "data": {
      "text/html": [
       "<div>\n",
       "<style scoped>\n",
       "    .dataframe tbody tr th:only-of-type {\n",
       "        vertical-align: middle;\n",
       "    }\n",
       "\n",
       "    .dataframe tbody tr th {\n",
       "        vertical-align: top;\n",
       "    }\n",
       "\n",
       "    .dataframe thead th {\n",
       "        text-align: right;\n",
       "    }\n",
       "</style>\n",
       "<table border=\"1\" class=\"dataframe\">\n",
       "  <thead>\n",
       "    <tr style=\"text-align: right;\">\n",
       "      <th></th>\n",
       "      <th>address_id</th>\n",
       "      <th>id</th>\n",
       "      <th>transaction_id</th>\n",
       "      <th>received</th>\n",
       "      <th>sent</th>\n",
       "      <th>cluster_id</th>\n",
       "    </tr>\n",
       "  </thead>\n",
       "  <tbody>\n",
       "    <tr>\n",
       "      <th>0</th>\n",
       "      <td>821475</td>\n",
       "      <td>133545303</td>\n",
       "      <td>28938349</td>\n",
       "      <td>0.0</td>\n",
       "      <td>2000000.0</td>\n",
       "      <td>0</td>\n",
       "    </tr>\n",
       "    <tr>\n",
       "      <th>1</th>\n",
       "      <td>821475</td>\n",
       "      <td>133546419</td>\n",
       "      <td>28938602</td>\n",
       "      <td>5500.0</td>\n",
       "      <td>0.0</td>\n",
       "      <td>0</td>\n",
       "    </tr>\n",
       "  </tbody>\n",
       "</table>\n",
       "</div>"
      ],
      "text/plain": [
       "   address_id         id  transaction_id  received       sent  cluster_id\n",
       "0      821475  133545303        28938349       0.0  2000000.0           0\n",
       "1      821475  133546419        28938602    5500.0        0.0           0"
      ]
     },
     "execution_count": 12,
     "metadata": {},
     "output_type": "execute_result"
    }
   ],
   "source": [
    "data.head(2)"
   ]
  },
  {
   "cell_type": "code",
   "execution_count": 13,
   "metadata": {},
   "outputs": [],
   "source": [
    "# np.any(data.sent - data.sent.astype('long') != 0)\n",
    "\n",
    "# np.any(data.received - data.received.astype('long') != 0)\n",
    "\n",
    "# data.received = data.received.astype('long')\n",
    "# data.sent = data.sent.astype('long')"
   ]
  },
  {
   "cell_type": "markdown",
   "metadata": {},
   "source": [
    "# Get unique transaction ids"
   ]
  },
  {
   "cell_type": "code",
   "execution_count": 14,
   "metadata": {},
   "outputs": [],
   "source": [
    "transactions = set(data.transaction_id.values)"
   ]
  },
  {
   "cell_type": "markdown",
   "metadata": {},
   "source": [
    "# Functions defenition"
   ]
  },
  {
   "cell_type": "code",
   "execution_count": 15,
   "metadata": {},
   "outputs": [],
   "source": [
    "def init_df():\n",
    "    z = np.zeros((3,4))\n",
    "    df = pd.DataFrame(z, columns=['0', '1', '2', 'fee'])\n",
    "    return df"
   ]
  },
  {
   "cell_type": "code",
   "execution_count": 16,
   "metadata": {},
   "outputs": [],
   "source": [
    "def transaction_info_df(df, transaction_id):\n",
    "    info = init_df() # dict which will be returned\n",
    "    subset = df[df.transaction_id == transaction_id] \n",
    "    sender = int(subset.cluster_id[subset.sent != 0].iloc[0])\n",
    "    \n",
    "    for _, row in subset.iterrows():\n",
    "        if row.sent == 0:\n",
    "            info.iloc[sender, int(row.cluster_id)] += row.received\n",
    "    \n",
    "    fee = subset.sent.sum() - subset.received.sum() # transaction fee\n",
    "    info.iloc[sender, 3] += fee\n",
    "    \n",
    "    return info"
   ]
  },
  {
   "cell_type": "markdown",
   "metadata": {},
   "source": [
    "# Calculate transactions sums"
   ]
  },
  {
   "cell_type": "code",
   "execution_count": 17,
   "metadata": {},
   "outputs": [],
   "source": [
    "def calc_result():\n",
    "    result_df = init_df()\n",
    "    for t in transactions:\n",
    "        result_df += transaction_info_df(data, t)\n",
    "    return result_df"
   ]
  },
  {
   "cell_type": "code",
   "execution_count": 18,
   "metadata": {},
   "outputs": [],
   "source": [
    "result = calc_result()"
   ]
  },
  {
   "cell_type": "code",
   "execution_count": 19,
   "metadata": {},
   "outputs": [],
   "source": [
    "# convert satoshi to bitcoins\n",
    "result_bitcoins = result / 10**8"
   ]
  },
  {
   "cell_type": "code",
   "execution_count": 20,
   "metadata": {},
   "outputs": [],
   "source": [
    "result_bitcoins.index.name = 'sender'"
   ]
  },
  {
   "cell_type": "code",
   "execution_count": 21,
   "metadata": {
    "scrolled": true
   },
   "outputs": [
    {
     "data": {
      "text/html": [
       "<div>\n",
       "<style scoped>\n",
       "    .dataframe tbody tr th:only-of-type {\n",
       "        vertical-align: middle;\n",
       "    }\n",
       "\n",
       "    .dataframe tbody tr th {\n",
       "        vertical-align: top;\n",
       "    }\n",
       "\n",
       "    .dataframe thead th {\n",
       "        text-align: right;\n",
       "    }\n",
       "</style>\n",
       "<table border=\"1\" class=\"dataframe\">\n",
       "  <thead>\n",
       "    <tr style=\"text-align: right;\">\n",
       "      <th></th>\n",
       "      <th>0</th>\n",
       "      <th>1</th>\n",
       "      <th>2</th>\n",
       "      <th>fee</th>\n",
       "    </tr>\n",
       "    <tr>\n",
       "      <th>sender</th>\n",
       "      <th></th>\n",
       "      <th></th>\n",
       "      <th></th>\n",
       "      <th></th>\n",
       "    </tr>\n",
       "  </thead>\n",
       "  <tbody>\n",
       "    <tr>\n",
       "      <th>0</th>\n",
       "      <td>722.751892</td>\n",
       "      <td>297.119684</td>\n",
       "      <td>9.740139</td>\n",
       "      <td>0.951604</td>\n",
       "    </tr>\n",
       "    <tr>\n",
       "      <th>1</th>\n",
       "      <td>300.553929</td>\n",
       "      <td>209.800509</td>\n",
       "      <td>129.243240</td>\n",
       "      <td>0.667144</td>\n",
       "    </tr>\n",
       "    <tr>\n",
       "      <th>2</th>\n",
       "      <td>4.869840</td>\n",
       "      <td>135.820000</td>\n",
       "      <td>889.807246</td>\n",
       "      <td>0.745667</td>\n",
       "    </tr>\n",
       "  </tbody>\n",
       "</table>\n",
       "</div>"
      ],
      "text/plain": [
       "                 0           1           2       fee\n",
       "sender                                              \n",
       "0       722.751892  297.119684    9.740139  0.951604\n",
       "1       300.553929  209.800509  129.243240  0.667144\n",
       "2         4.869840  135.820000  889.807246  0.745667"
      ]
     },
     "execution_count": 21,
     "metadata": {},
     "output_type": "execute_result"
    }
   ],
   "source": [
    "result_bitcoins"
   ]
  },
  {
   "cell_type": "markdown",
   "metadata": {},
   "source": [
    "## Shallow validation"
   ]
  },
  {
   "cell_type": "code",
   "execution_count": 25,
   "metadata": {},
   "outputs": [
    {
     "data": {
      "text/plain": [
       "2702.07089296"
      ]
     },
     "execution_count": 25,
     "metadata": {},
     "output_type": "execute_result"
    }
   ],
   "source": [
    "data.sent.sum() / 10**8"
   ]
  },
  {
   "cell_type": "code",
   "execution_count": 31,
   "metadata": {},
   "outputs": [
    {
     "data": {
      "text/plain": [
       "2702.07089296"
      ]
     },
     "execution_count": 31,
     "metadata": {},
     "output_type": "execute_result"
    }
   ],
   "source": [
    "np.sum(result_bitcoins.values, )"
   ]
  },
  {
   "cell_type": "markdown",
   "metadata": {},
   "source": [
    "# Plot results"
   ]
  },
  {
   "cell_type": "code",
   "execution_count": 22,
   "metadata": {},
   "outputs": [
    {
     "data": {
      "image/png": "[encoded data removed]",
      "text/plain": [
       "<Figure size 432x288 with 2 Axes>"
      ]
     },
     "metadata": {
      "needs_background": "light"
     },
     "output_type": "display_data"
    }
   ],
   "source": [
    "plt.xlabel('receiver')\n",
    "plt.ylabel('sender')\n",
    "sns.heatmap(result_bitcoins, annot=True, fmt='.1f')\n",
    "plt.show()"
   ]
  },
  {
   "cell_type": "markdown",
   "metadata": {},
   "source": [
    "## Let's hide unnecessary values"
   ]
  },
  {
   "cell_type": "code",
   "execution_count": 32,
   "metadata": {},
   "outputs": [],
   "source": [
    "def plot_results(dataframe, title):\n",
    "    # create mask to heatmap to hide transactions inside clusters:\n",
    "    mask = np.zeros_like(dataframe).flatten()\n",
    "    mask[::5] = 1\n",
    "    mask = mask.reshape((3,-1))\n",
    "    \n",
    "    fontsize = 14\n",
    "    plt.figure(figsize=(8,6))\n",
    "    sns.heatmap(dataframe, annot=True, fmt='.1f', mask=mask)\n",
    "    plt.xlabel('receiver', fontsize=fontsize)\n",
    "    plt.ylabel('sender', fontsize=fontsize)\n",
    "    plt.title(title)\n",
    "    plt.show()"
   ]
  },
  {
   "cell_type": "code",
   "execution_count": 33,
   "metadata": {},
   "outputs": [
    {
     "data": {
      "image/png": "[encoded data removed]",
      "text/plain": [
       "<Figure size 576x432 with 2 Axes>"
      ]
     },
     "metadata": {
      "needs_background": "light"
     },
     "output_type": "display_data"
    }
   ],
   "source": [
    "plot_results(result_bitcoins, 'Transactions between clusters in bitcoins')"
   ]
  }
 ],
 "metadata": {
  "kernelspec": {
   "display_name": "Python 3",
   "language": "python",
   "name": "python3"
  },
  "language_info": {
   "codemirror_mode": {
    "name": "ipython",
    "version": 3
   },
   "file_extension": ".py",
   "mimetype": "text/x-python",
   "name": "python",
   "nbconvert_exporter": "python",
   "pygments_lexer": "ipython3",
   "version": "3.8.5"
  },
  "toc": {
   "base_numbering": 1,
   "nav_menu": {},
   "number_sections": true,
   "sideBar": true,
   "skip_h1_title": false,
   "title_cell": "Table of Contents",
   "title_sidebar": "Contents",
   "toc_cell": false,
   "toc_position": {},
   "toc_section_display": true,
   "toc_window_display": true
  }
 },
 "nbformat": 4,
 "nbformat_minor": 4
}
